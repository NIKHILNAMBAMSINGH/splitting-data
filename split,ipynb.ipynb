{
 "cells": [
  {
   "cell_type": "code",
   "execution_count": 5,
   "id": "7c65f3e9",
   "metadata": {},
   "outputs": [],
   "source": [
    "import splitfolders"
   ]
  },
  {
   "cell_type": "code",
   "execution_count": 6,
   "id": "deccfaf2",
   "metadata": {},
   "outputs": [],
   "source": [
    "input_folder = 'D:/jupter brain tumor/tumot/'\n"
   ]
  },
  {
   "cell_type": "code",
   "execution_count": 7,
   "id": "77d331c7",
   "metadata": {},
   "outputs": [
    {
     "name": "stderr",
     "output_type": "stream",
     "text": [
      "Copying files: 7023 files [04:35, 25.51 files/s]\n"
     ]
    }
   ],
   "source": [
    "splitfolders.ratio(input_folder, output=\"D:/jupter brain tumor/new data set/\", \n",
    "                   seed=42, ratio=(.7, .2, .1), \n",
    "                   group_prefix=None) # default values"
   ]
  },
  {
   "cell_type": "code",
   "execution_count": null,
   "id": "36361b38",
   "metadata": {},
   "outputs": [],
   "source": []
  }
 ],
 "metadata": {
  "kernelspec": {
   "display_name": "Python 3 (ipykernel)",
   "language": "python",
   "name": "python3"
  },
  "language_info": {
   "codemirror_mode": {
    "name": "ipython",
    "version": 3
   },
   "file_extension": ".py",
   "mimetype": "text/x-python",
   "name": "python",
   "nbconvert_exporter": "python",
   "pygments_lexer": "ipython3",
   "version": "3.9.7"
  }
 },
 "nbformat": 4,
 "nbformat_minor": 5
}
